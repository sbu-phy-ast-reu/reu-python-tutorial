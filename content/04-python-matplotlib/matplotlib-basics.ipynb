{
 "cells": [
  {
   "cell_type": "markdown",
   "metadata": {},
   "source": [
    "# matplotlib\n",
    "\n",
    "Matplotlib is the core plotting package in scientific python.  There are others to explore as well (which we can chat about on slack)."
   ]
  },
  {
   "cell_type": "markdown",
   "metadata": {},
   "source": [
    "<div class=\"alert alert-block alert-warning\">\n",
    "\n",
    "There are different interfaces for interacting with matplotlib, an interactive, function-driven (state machine) command-set and an object-oriented version.  We'll focus on the OO interface.\n",
    "    \n",
    "</div>"
   ]
  },
  {
   "cell_type": "markdown",
   "metadata": {},
   "source": [
    "We want matplotlib to work inline in the notebook."
   ]
  },
  {
   "cell_type": "code",
   "execution_count": null,
   "metadata": {},
   "outputs": [],
   "source": [
    "import numpy as np\n",
    "import matplotlib.pyplot as plt"
   ]
  },
  {
   "cell_type": "markdown",
   "metadata": {},
   "source": [
    "## Matplotlib concepts\n",
    "\n",
    "Matplotlib was designed with the following goals (from mpl docs):\n",
    "\n",
    "* Plots should look great -- publication quality (e.g. antialiased)\n",
    "* Postscript output for inclusion with TeX documents\n",
    "* Embeddable in a graphical user interface for application development\n",
    "* Code should be easy to understand it and extend\n",
    "* Making plots should be easy\n",
    "\n",
    "Matplotlib is mostly for 2-d data, but there are some basic 3-d (surface) interfaces.\n",
    "\n",
    "Volumetric data requires a different approach"
   ]
  },
  {
   "cell_type": "markdown",
   "metadata": {},
   "source": [
    "### Gallery\n",
    "\n",
    "Matplotlib has a great gallery on their webpage -- find something there close to what you are trying to do and use it as a starting point:\n",
    "\n",
    "https://matplotlib.org/stable/gallery/index.html\n"
   ]
  },
  {
   "cell_type": "markdown",
   "metadata": {},
   "source": [
    "### Importing\n",
    "\n",
    "There are several different interfaces for matplotlib (see https://matplotlib.org/3.1.1/faq/index.html)\n",
    "\n",
    "Basic ideas:\n",
    "\n",
    "* `matplotlib` is the entire package\n",
    "* `matplotlib.pyplot` is a module within matplotlib that provides easy access to the core plotting routines\n",
    "* `pylab` combines pyplot and numpy into a single namespace to give a MatLab like interface.  You should avoid this&mdash;it might be removed in the future.\n",
    "\n",
    "There are a number of modules that extend its behavior, e.g. `basemap` for plotting on a sphere, `mplot3d` for 3-d surfaces\n"
   ]
  },
  {
   "cell_type": "markdown",
   "metadata": {},
   "source": [
    "### Anatomy of a figure\n",
    "\n",
    "Figures are the highest level object and can include multiple axes\n",
    "![](anatomy1.png)\n",
    "\n",
    "(figure from: http://matplotlib.org/faq/usage_faq.html#parts-of-a-figure )\n"
   ]
  },
  {
   "cell_type": "markdown",
   "metadata": {},
   "source": [
    "### State-machine vs. OO interface\n",
    "\n",
    "The state-machine interface is similar to matlab -- high level functions are provided to work on the current axes in the current figure\n",
    "\n",
    "The objected oriented interface is more pythonic -- you create figure and axes objects and interact with them.  It is the preferred way to use matplotlib.\n",
    "\n",
    "Note: when looking for help online, you often see these two approaches mixed.\n",
    "\n",
    "See this: https://matplotlib.org/3.2.2/tutorials/introductory/lifecycle.html"
   ]
  },
  {
   "cell_type": "markdown",
   "metadata": {},
   "source": [
    "### Backends\n",
    "\n",
    "Interactive backends: pygtk, wxpython, tkinter, ...\n",
    "\n",
    "Hardcopy backends: PNG, PDF, PS, SVG, ...\n",
    "\n"
   ]
  },
  {
   "cell_type": "markdown",
   "metadata": {},
   "source": [
    "# Basic plotting"
   ]
  },
  {
   "cell_type": "markdown",
   "metadata": {},
   "source": [
    "## State-machine interface"
   ]
  },
  {
   "cell_type": "markdown",
   "metadata": {},
   "source": [
    "plot() is the most basic command.  Here we also see that we can use LaTeX notation for the axes"
   ]
  },
  {
   "cell_type": "code",
   "execution_count": null,
   "metadata": {},
   "outputs": [],
   "source": [
    "x = np.linspace(0,2.0*np.pi, num=50)\n",
    "y = np.cos(x)\n",
    "\n",
    "plt.plot(x,y)\n",
    "plt.xlabel(r\"$x$\")\n",
    "plt.ylabel(r\"$\\cos(x)$\", fontsize=\"x-large\")\n",
    "plt.xlim(0, 2.0*np.pi)"
   ]
  },
  {
   "cell_type": "markdown",
   "metadata": {},
   "source": [
    "Note that when we use the `plot()` command like this, matplotlib automatically creates a figure and an axis for us and it draws the plot on this for us.  This is the _state machine_ interface.  "
   ]
  },
  {
   "cell_type": "markdown",
   "metadata": {},
   "source": [
    "## OO Interface"
   ]
  },
  {
   "cell_type": "code",
   "execution_count": null,
   "metadata": {},
   "outputs": [],
   "source": [
    "fig = plt.figure()\n",
    "ax = fig.add_subplot(111)\n",
    "\n",
    "ax.plot(x, y)\n",
    "ax.set_xlabel(r\"$x$\")\n",
    "ax.set_ylabel(r\"$\\cos(x)$\")\n",
    "ax.set_xlim(0, 2*np.pi)"
   ]
  },
  {
   "cell_type": "markdown",
   "metadata": {},
   "source": [
    "<div class=\"alert alert-block alert-info\"><h3><span class=\"fa fa-flash\"></span> Quick Exercise:</h3>\n",
    "\n",
    "\n",
    "We can plot 2 lines on a plot simply by calling plot twice.  Make a plot with both `sin(x)` and `cos(x)` drawn\n",
    "\n",
    "</div>"
   ]
  },
  {
   "cell_type": "code",
   "execution_count": null,
   "metadata": {},
   "outputs": [],
   "source": []
  },
  {
   "cell_type": "markdown",
   "metadata": {},
   "source": [
    "we can use symbols instead of lines pretty easily too&mdash;and label them"
   ]
  },
  {
   "cell_type": "code",
   "execution_count": null,
   "metadata": {},
   "outputs": [],
   "source": [
    "fig = plt.figure()\n",
    "ax = fig.add_subplot(111)\n",
    "ax.plot(x, np.sin(x), \"o\", label=\"sine\")\n",
    "ax.plot(x, np.cos(x), \"x\", label=\"cosine\")\n",
    "ax.set_xlim(0.0, 2.0*np.pi)\n",
    "ax.legend()"
   ]
  },
  {
   "cell_type": "markdown",
   "metadata": {},
   "source": [
    "Here we specified the format using a \"format string\" (see https://matplotlib.org/3.1.1/api/_as_gen/matplotlib.pyplot.plot.html)\n",
    "\n",
    "This has the form `'[marker][line][color]'`"
   ]
  },
  {
   "cell_type": "markdown",
   "metadata": {},
   "source": [
    "most functions take a number of optional named arguments too"
   ]
  },
  {
   "cell_type": "code",
   "execution_count": null,
   "metadata": {},
   "outputs": [],
   "source": [
    "ax.clear()\n",
    "ax.plot(x, np.sin(x), linestyle=\"--\", linewidth=3.0)\n",
    "ax.plot(x, np.cos(x), linestyle=\"-\")\n",
    "fig"
   ]
  },
  {
   "cell_type": "markdown",
   "metadata": {},
   "source": [
    "There are predefined styles that can be used too.  Generally you need to start from the figure creation for these to take effect"
   ]
  },
  {
   "cell_type": "code",
   "execution_count": null,
   "metadata": {},
   "outputs": [],
   "source": [
    "print(plt.style.available)"
   ]
  },
  {
   "cell_type": "code",
   "execution_count": null,
   "metadata": {},
   "outputs": [],
   "source": [
    "plt.style.use(\"seaborn-darkgrid\")\n",
    "\n",
    "fig = plt.figure()\n",
    "ax = fig.add_subplot(111)\n",
    "ax.plot(x, np.sin(x), linestyle=\"--\", linewidth=3.0)\n",
    "ax.plot(x, np.cos(x), linestyle=\"-\")\n",
    "ax.set_xlim(0.0, 2.0*np.pi)"
   ]
  },
  {
   "cell_type": "code",
   "execution_count": null,
   "metadata": {},
   "outputs": [],
   "source": [
    "plt.style.use(\"default\")"
   ]
  },
  {
   "cell_type": "markdown",
   "metadata": {},
   "source": [
    "# Multiple axes"
   ]
  },
  {
   "cell_type": "markdown",
   "metadata": {},
   "source": [
    "there are a wide range of methods for putting multiple axes on a grid.  We'll look at the simplest method.\n",
    "\n",
    "The `add_subplot()` method we've been using can take 3 numbers: the number of rows, number of columns, and current index"
   ]
  },
  {
   "cell_type": "code",
   "execution_count": null,
   "metadata": {},
   "outputs": [],
   "source": [
    "fig = plt.figure()\n",
    "\n",
    "ax1 = fig.add_subplot(211)\n",
    "\n",
    "x = np.linspace(0,5,100)\n",
    "ax1.plot(x, x**3 - 4*x)\n",
    "ax1.set_xlabel(\"x\")\n",
    "ax1.set_ylabel(r\"$x^3 - 4x$\", fontsize=\"large\")\n",
    "\n",
    "ax2 = fig.add_subplot(212)\n",
    "\n",
    "ax2.plot(x, np.exp(-x**2))\n",
    "ax2.set_xlabel(\"x\")\n",
    "ax2.set_ylabel(\"Gaussian\")\n",
    "\n",
    "# log scale\n",
    "ax2.set_yscale(\"log\")\n",
    "\n",
    "# set the figure size\n",
    "fig.set_size_inches(6, 8)\n",
    "\n",
    "# tight_layout() makes sure things don't overlap\n",
    "fig.tight_layout()"
   ]
  },
  {
   "cell_type": "markdown",
   "metadata": {},
   "source": [
    "# Visualizing 2-d array data"
   ]
  },
  {
   "cell_type": "markdown",
   "metadata": {},
   "source": [
    "2-d datasets consist of (x, y) pairs and a value associated with that point.  Here we create a 2-d Gaussian, using the `meshgrid()` function to define a rectangular set of points."
   ]
  },
  {
   "cell_type": "code",
   "execution_count": null,
   "metadata": {},
   "outputs": [],
   "source": [
    "def g(x, y):\n",
    "    return np.exp(-((x-0.5)**2)/0.1**2 - ((y-0.5)**2)/0.2**2)\n",
    "\n",
    "N = 100\n",
    "\n",
    "x = np.linspace(0.0, 1.0, N)\n",
    "y = x.copy()\n",
    "\n",
    "xv, yv = np.meshgrid(x, y)"
   ]
  },
  {
   "cell_type": "markdown",
   "metadata": {},
   "source": [
    "A \"heatmap\" style plot assigns colors to the data values.  A lot of work has gone into the latest matplotlib to define a colormap that works good for colorblindness and black-white printing."
   ]
  },
  {
   "cell_type": "code",
   "execution_count": null,
   "metadata": {},
   "outputs": [],
   "source": [
    "fig = plt.figure()\n",
    "ax = fig.add_subplot(111)\n",
    "im = ax.imshow(g(xv, yv), origin=\"lower\")\n",
    "plt.colorbar(im, ax=ax)"
   ]
  },
  {
   "cell_type": "markdown",
   "metadata": {},
   "source": [
    "Sometimes we want to show just contour lines&mdash;like on a topographic map.  The `contour()` function does this for us."
   ]
  },
  {
   "cell_type": "code",
   "execution_count": null,
   "metadata": {},
   "outputs": [],
   "source": [
    "fig = plt.figure()\n",
    "ax = fig.add_subplot(111)\n",
    "contours = ax.contour(g(xv, yv))\n",
    "ax.axis(\"equal\")   # this adjusts the size of image to make x and y lengths equal"
   ]
  },
  {
   "cell_type": "markdown",
   "metadata": {},
   "source": [
    "<div class=\"alert alert-block alert-info\"><h3><span class=\"fa fa-flash\"></span> Quick Exercise:</h3>\n",
    "    \n",
    "Contour plots can label the contours, using the `ax.clabel()` function.\n",
    "Try adding labels to this contour plot.\n",
    "</div>"
   ]
  },
  {
   "cell_type": "code",
   "execution_count": null,
   "metadata": {},
   "outputs": [],
   "source": []
  },
  {
   "cell_type": "markdown",
   "metadata": {},
   "source": [
    "# Error bars"
   ]
  },
  {
   "cell_type": "markdown",
   "metadata": {},
   "source": [
    "For experiments, we often have errors associated with the $y$ values.  Here we create some data and add some noise to it, then plot it with errors."
   ]
  },
  {
   "cell_type": "code",
   "execution_count": null,
   "metadata": {},
   "outputs": [],
   "source": [
    "def y_experiment(a1, a2, sigma, x):\n",
    "    \"\"\" return the experimental data in a linear + random fashion a1\n",
    "        is the intercept, a2 is the slope, and sigma is the error \"\"\"\n",
    "\n",
    "    N = len(x)\n",
    "\n",
    "    # randn gives samples from the \"standard normal\" distribution\n",
    "    r = np.random.randn(N)\n",
    "    y = a1 + a2*x + sigma*r\n",
    "    return y\n",
    "\n",
    "N = 40\n",
    "x = np.linspace(0.0, 100.0, N)\n",
    "sigma = 25.0*np.ones(N)\n",
    "y = y_experiment(10.0, 3.0, sigma, x)"
   ]
  },
  {
   "cell_type": "code",
   "execution_count": null,
   "metadata": {},
   "outputs": [],
   "source": [
    "fig = plt.figure()\n",
    "ax = fig.add_subplot(111)\n",
    "ax.errorbar(x, y, yerr=sigma, fmt=\"o\")"
   ]
  },
  {
   "cell_type": "markdown",
   "metadata": {},
   "source": [
    "<div class=\"alert alert-block alert-info\"><h3><span class=\"fa fa-flash\"></span> Quick Exercise:</h3>\n",
    "\n",
    "Make an error plot with error bars in both x and y\n",
    "</div>"
   ]
  },
  {
   "cell_type": "code",
   "execution_count": null,
   "metadata": {},
   "outputs": [],
   "source": []
  },
  {
   "cell_type": "markdown",
   "metadata": {},
   "source": [
    "# Annotations"
   ]
  },
  {
   "cell_type": "markdown",
   "metadata": {},
   "source": [
    "adding text to the plot is easy"
   ]
  },
  {
   "cell_type": "code",
   "execution_count": null,
   "metadata": {},
   "outputs": [],
   "source": [
    "xx = np.linspace(0, 2.0*np.pi, 1000)"
   ]
  },
  {
   "cell_type": "code",
   "execution_count": null,
   "metadata": {},
   "outputs": [],
   "source": [
    "fig = plt.figure()\n",
    "ax = fig.add_subplot(111)\n",
    "ax.plot(xx, np.sin(xx))\n",
    "ax.text(np.pi/2, np.sin(np.pi/2), r\"maximum\")"
   ]
  },
  {
   "cell_type": "markdown",
   "metadata": {},
   "source": [
    "we can also turn off the top and right \"splines\""
   ]
  },
  {
   "cell_type": "code",
   "execution_count": null,
   "metadata": {},
   "outputs": [],
   "source": [
    "ax.spines['right'].set_visible(False)\n",
    "ax.spines['top'].set_visible(False)\n",
    "ax.xaxis.set_ticks_position('bottom')                                           \n",
    "ax.yaxis.set_ticks_position('left') \n",
    "fig"
   ]
  },
  {
   "cell_type": "markdown",
   "metadata": {},
   "source": [
    "Annotations with an arrow are also possible"
   ]
  },
  {
   "cell_type": "code",
   "execution_count": null,
   "metadata": {},
   "outputs": [],
   "source": [
    "#example from http://matplotlib.org/examples/pylab_examples/annotation_demo.html\n",
    "fig = plt.figure()\n",
    "ax = fig.add_subplot(111, projection='polar')\n",
    "r = np.arange(0, 1, 0.001)\n",
    "theta = 2*2*np.pi*r\n",
    "line, = ax.plot(theta, r, color='#ee8d18', lw=3)\n",
    "\n",
    "ind = 800\n",
    "thisr, thistheta = r[ind], theta[ind]\n",
    "ax.plot([thistheta], [thisr], 'o')\n",
    "ax.annotate('a polar annotation',\n",
    "            xy=(thistheta, thisr),  # theta, radius\n",
    "            xytext=(0.05, 0.05),    # fraction, fraction\n",
    "            textcoords='figure fraction',\n",
    "            arrowprops=dict(facecolor='black', shrink=0.05),\n",
    "            horizontalalignment='left',\n",
    "            verticalalignment='bottom')"
   ]
  },
  {
   "cell_type": "markdown",
   "metadata": {},
   "source": [
    "# Surface plots"
   ]
  },
  {
   "cell_type": "markdown",
   "metadata": {},
   "source": [
    "matplotlib can't deal with true 3-d data (i.e., x,y,z + a value), but it can plot 2-d surfaces and lines in 3-d."
   ]
  },
  {
   "cell_type": "code",
   "execution_count": null,
   "metadata": {},
   "outputs": [],
   "source": [
    "from mpl_toolkits.mplot3d import Axes3D\n",
    "fig = plt.figure()\n",
    "ax = fig.gca(projection=\"3d\")\n",
    "\n",
    "# parametric curves\n",
    "N = 100\n",
    "theta = np.linspace(-4*np.pi, 4*np.pi, N)\n",
    "z = np.linspace(-2, 2, N)\n",
    "r = z**2 + 1\n",
    "\n",
    "x = r*np.sin(theta)\n",
    "y = r*np.cos(theta)\n",
    "\n",
    "ax.plot(x,y,z)"
   ]
  },
  {
   "cell_type": "code",
   "execution_count": null,
   "metadata": {},
   "outputs": [],
   "source": [
    "fig = plt.figure()\n",
    "ax = fig.gca(projection=\"3d\")\n",
    "\n",
    "X = np.arange(-5,5, 0.25)\n",
    "Y = np.arange(-5,5, 0.25)\n",
    "X, Y = np.meshgrid(X, Y)\n",
    "R = np.sqrt(X**2 + Y**2)\n",
    "Z = np.sin(R)\n",
    "\n",
    "surf = ax.plot_surface(X, Y, Z, rstride=1, cstride=1, cmap=\"coolwarm\")\n",
    "\n",
    "# and the view (note: most interactive backends will allow you to rotate this freely)\n",
    "ax.azim = 45\n",
    "ax.elev = 40"
   ]
  },
  {
   "cell_type": "markdown",
   "metadata": {},
   "source": [
    "# Plotting on a sphere"
   ]
  },
  {
   "cell_type": "markdown",
   "metadata": {},
   "source": [
    "the map functionality expects stuff in longitude and latitude, so if you want to plot x,y,z on the surface of a sphere using the idea of spherical coordinates, remember that the spherical angle from z (theta) is co-latitude\n",
    "\n",
    "note: you need the python-basemap package installed for this to work\n",
    "\n",
    "This also illustrates getting access to a matplotlib toolkit"
   ]
  },
  {
   "cell_type": "code",
   "execution_count": null,
   "metadata": {},
   "outputs": [],
   "source": [
    "def to_lonlat(x,y,z):\n",
    "    SMALL = 1.e-100\n",
    "    rho = np.sqrt((x + SMALL)**2 + (y + SMALL)**2)\n",
    "    R = np.sqrt(rho**2 + (z + SMALL)**2)\n",
    "    \n",
    "    theta = np.degrees(np.arctan2(rho, z + SMALL))\n",
    "    phi = np.degrees(np.arctan2(y + SMALL, x + SMALL))\n",
    "    \n",
    "    # latitude is 90 - the spherical theta\n",
    "    return (phi, 90-theta)\n",
    "\n",
    "\n",
    "from mpl_toolkits.basemap import Basemap\n",
    "\n",
    "# other projections are allowed, e.g. \"ortho\", moll\"\n",
    "map = Basemap(projection='moll', lat_0 = 45, lon_0 = 45,\n",
    "              resolution = 'l', area_thresh = 1000.)\n",
    "\n",
    "map.drawmapboundary()\n",
    "\n",
    "map.drawmeridians(np.arange(0, 360, 15), color=\"0.5\", latmax=90)\n",
    "map.drawparallels(np.arange(-90, 90, 15), color=\"0.5\", latmax=90) #, labels=[1,0,0,1])\n",
    "\n",
    "# unit vectors (+x, +y, +z)\n",
    "points = [(1,0,0), (0,1,0), (0,0,1)]\n",
    "labels = [\"+x\", \"+y\", \"+z\"]\n",
    "\n",
    "for i in range(len(points)):\n",
    "    p = points[i]\n",
    "    print(p)\n",
    "    lon, lat = to_lonlat(p[0], p[1], p[2])\n",
    "    xp, yp = map(lon, lat)\n",
    "    s = plt.text(xp, yp, labels[i], color=\"b\", zorder=10)\n",
    "\n",
    "# draw a great circle arc between two points\n",
    "lats = [0, 0]\n",
    "lons = [0, 90]\n",
    "\n",
    "map.drawgreatcircle(lons[0], lats[0], lons[1], lats[1], linewidth=2, color=\"r\")\n",
    "\n"
   ]
  },
  {
   "cell_type": "markdown",
   "metadata": {},
   "source": [
    "also, if you really are interested in earth..."
   ]
  },
  {
   "cell_type": "code",
   "execution_count": null,
   "metadata": {},
   "outputs": [],
   "source": [
    "map = Basemap(projection='ortho', lat_0 = 45, lon_0 = 45,\n",
    "              resolution = 'l', area_thresh = 1000.)\n",
    "\n",
    "map.drawcoastlines()\n",
    "map.drawmapboundary()"
   ]
  },
  {
   "cell_type": "markdown",
   "metadata": {},
   "source": [
    "# Histograms"
   ]
  },
  {
   "cell_type": "markdown",
   "metadata": {},
   "source": [
    "here we generate a bunch of gaussian-normalized random numbers and make a histogram.  The probability distribution should match\n",
    "$$y(x) = \\frac{1}{\\sigma \\sqrt{2\\pi}} e^{-x^2/(2\\sigma^2)}$$"
   ]
  },
  {
   "cell_type": "code",
   "execution_count": null,
   "metadata": {},
   "outputs": [],
   "source": [
    "N = 10000\n",
    "r = np.random.randn(N)\n",
    "\n",
    "fig = plt.figure()\n",
    "ax = fig.add_subplot(111)\n",
    "ax.hist(r, density=True, bins=20)\n",
    "\n",
    "x = np.linspace(-5,5,200)\n",
    "sigma = 1.0\n",
    "ax.plot(x, np.exp(-x**2/(2*sigma**2))/(sigma*np.sqrt(2.0*np.pi)),\n",
    "         c=\"r\", lw=2)\n",
    "ax.set_xlabel(\"x\")\n"
   ]
  },
  {
   "cell_type": "markdown",
   "metadata": {},
   "source": [
    "# Plotting data from a file"
   ]
  },
  {
   "cell_type": "markdown",
   "metadata": {},
   "source": [
    "numpy.loadtxt() provides an easy way to read columns of data from an ASCII file"
   ]
  },
  {
   "cell_type": "code",
   "execution_count": null,
   "metadata": {},
   "outputs": [],
   "source": [
    "data = np.loadtxt(\"test1.exact.128.out\")\n",
    "print(data.shape)"
   ]
  },
  {
   "cell_type": "code",
   "execution_count": null,
   "metadata": {},
   "outputs": [],
   "source": [
    "fig = plt.figure()\n",
    "ax = fig.add_subplot(111)\n",
    "ax.plot(data[:,1], data[:,2]/np.max(data[:,2]), label=r\"$\\rho$\")\n",
    "ax.plot(data[:,1], data[:,3]/np.max(data[:,3]), label=r\"$u$\")\n",
    "ax.plot(data[:,1], data[:,4]/np.max(data[:,4]), label=r\"$p$\")\n",
    "ax.plot(data[:,1], data[:,5]/np.max(data[:,5]), label=r\"$T$\")\n",
    "ax.set_ylim(0,1.1)\n",
    "ax.legend(frameon=False, fontsize=12)"
   ]
  },
  {
   "cell_type": "markdown",
   "metadata": {},
   "source": [
    "# Final fun"
   ]
  },
  {
   "cell_type": "markdown",
   "metadata": {},
   "source": [
    "if you want to make things look hand-drawn in the style of xkcd, rerun these examples after doing\n",
    "plt.xkcd()"
   ]
  },
  {
   "cell_type": "code",
   "execution_count": null,
   "metadata": {},
   "outputs": [],
   "source": [
    "plt.xkcd()"
   ]
  },
  {
   "cell_type": "code",
   "execution_count": null,
   "metadata": {},
   "outputs": [],
   "source": []
  }
 ],
 "metadata": {
  "kernelspec": {
   "display_name": "Python 3 (ipykernel)",
   "language": "python",
   "name": "python3"
  },
  "language_info": {
   "codemirror_mode": {
    "name": "ipython",
    "version": 3
   },
   "file_extension": ".py",
   "mimetype": "text/x-python",
   "name": "python",
   "nbconvert_exporter": "python",
   "pygments_lexer": "ipython3",
   "version": "3.10.2"
  }
 },
 "nbformat": 4,
 "nbformat_minor": 4
}
