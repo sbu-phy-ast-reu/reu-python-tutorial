{
 "cells": [
  {
   "cell_type": "markdown",
   "metadata": {},
   "source": [
    "# Classes"
   ]
  },
  {
   "cell_type": "markdown",
   "metadata": {
    "tags": []
   },
   "source": [
    "Classes are the fundamental concept for object oriented programming.  A class defines a data type with both data and functions that can operate on the data.  An object is an instance of a class.  Each object will have its own namespace (separate from other instances of the class and other functions, etc. in your program).\n",
    "\n",
    "We use the dot operator, `.`, to access members of the class (data or functions).  We've already been doing this a lot, strings, ints, lists, ... are all objects in python."
   ]
  },
  {
   "cell_type": "markdown",
   "metadata": {
    "tags": []
   },
   "source": [
    "## Naming conventions"
   ]
  },
  {
   "cell_type": "markdown",
   "metadata": {},
   "source": [
    "The python community has some naming convections, defined in PEP-8:\n",
    "\n",
    "https://www.python.org/dev/peps/pep-0008/\n",
    "\n",
    "The widely adopted ones are:\n",
    "\n",
    "* class names start with an uppercase, and use \"camelcase\" for multiword names, e.g. `ShoppingCart`\n",
    "\n",
    "* variable names (including objects which are instances of a class) are lowercase and use underscores to separate words, e.g., `shopping_cart`\n",
    "\n",
    "* module names should be lowercase with underscores\n",
    "\n"
   ]
  },
  {
   "cell_type": "markdown",
   "metadata": {},
   "source": [
    "## A simple class"
   ]
  },
  {
   "cell_type": "markdown",
   "metadata": {},
   "source": [
    "Here's a class that holds some student info"
   ]
  },
  {
   "cell_type": "code",
   "execution_count": null,
   "metadata": {},
   "outputs": [],
   "source": [
    "class Student:\n",
    "    def __init__(self, name, grade=None):\n",
    "        self.name = name\n",
    "        self.grade = grade"
   ]
  },
  {
   "cell_type": "markdown",
   "metadata": {},
   "source": [
    "This has a function, `__init__()` which is called automatically when we create an instance of the class.  \n",
    "\n",
    "The argument `self` refers to the object that we will create, and points to the memory that they object will use to store the class's contents."
   ]
  },
  {
   "cell_type": "code",
   "execution_count": null,
   "metadata": {},
   "outputs": [],
   "source": [
    "a = Student(\"Mike\")\n",
    "print(a.name)\n",
    "print(a.grade)"
   ]
  },
  {
   "cell_type": "markdown",
   "metadata": {},
   "source": [
    "Let's create a bunch of them, stored in a list"
   ]
  },
  {
   "cell_type": "code",
   "execution_count": null,
   "metadata": {},
   "outputs": [],
   "source": [
    "students = []\n",
    "students.append(Student(\"fry\", \"F-\"))\n",
    "students.append(Student(\"leela\", \"A\"))\n",
    "students.append(Student(\"zoidberg\", \"F\"))\n",
    "students.append(Student(\"hubert\", \"C+\"))\n",
    "students.append(Student(\"bender\", \"B\"))\n",
    "students.append(Student(\"calculon\", \"C\"))\n",
    "students.append(Student(\"amy\", \"A\"))\n",
    "students.append(Student(\"hermes\", \"A\"))\n",
    "students.append(Student(\"scruffy\", \"D\"))\n",
    "students.append(Student(\"flexo\", \"F\"))\n",
    "students.append(Student(\"morbo\", \"D\"))\n",
    "students.append(Student(\"hypnotoad\", \"A+\"))\n",
    "students.append(Student(\"zapp\", \"Q\"))"
   ]
  },
  {
   "cell_type": "markdown",
   "metadata": {},
   "source": [
    "<div class=\"alert alert-block alert-warning\">\n",
    "    \n",
    "<span class=\"fa fa-flash\"></span> Quick Exercise:\n",
    "\n",
    "\n",
    "Loop over the students in the `students` list and print out the name and grade of each student, one per line.\n",
    "\n",
    "</div>"
   ]
  },
  {
   "cell_type": "code",
   "execution_count": null,
   "metadata": {},
   "outputs": [],
   "source": []
  },
  {
   "cell_type": "markdown",
   "metadata": {},
   "source": [
    "We can use list comprehensions with our list of objects.  For example, let's find all the students who have A's"
   ]
  },
  {
   "cell_type": "code",
   "execution_count": null,
   "metadata": {},
   "outputs": [],
   "source": [
    "As = [q.name for q in students if q.grade.startswith(\"A\")]\n",
    "As"
   ]
  },
  {
   "cell_type": "markdown",
   "metadata": {},
   "source": [
    "## Playing Cards"
   ]
  },
  {
   "cell_type": "markdown",
   "metadata": {},
   "source": [
    "Here's a more complicated class that represents a playing card.  Notice that we are using unicode to represent the suits."
   ]
  },
  {
   "cell_type": "code",
   "execution_count": null,
   "metadata": {},
   "outputs": [],
   "source": [
    "class Card:\n",
    "    \n",
    "    def __init__(self, suit=1, rank=2):\n",
    "        if suit < 1 or suit > 4:\n",
    "            print(\"invalid suit, setting to 1\")\n",
    "            suit = 1\n",
    "            \n",
    "        self.suit = suit\n",
    "        self.rank = rank\n",
    "        \n",
    "    def value(self):\n",
    "        \"\"\" we want things order primarily by rank then suit \"\"\"\n",
    "        return self.suit + (self.rank-1)*14\n",
    "    \n",
    "    # we include this to allow for comparisons with < and > between cards \n",
    "    def __lt__(self, other):\n",
    "        return self.value() < other.value()\n",
    "\n",
    "    def __eq__(self, other):\n",
    "        return self.rank == other.rank and self.suit == other.suit\n",
    "    \n",
    "    def __repr__(self):\n",
    "        return self.__str__()\n",
    "    \n",
    "    def __str__(self):\n",
    "        suits = [u\"\\u2660\",  # spade\n",
    "                 u\"\\u2665\",  # heart\n",
    "                 u\"\\u2666\",  # diamond\n",
    "                 u\"\\u2663\"]  # club\n",
    "        \n",
    "        r = str(self.rank)\n",
    "        if self.rank == 11:\n",
    "            r = \"J\"\n",
    "        elif self.rank == 12:\n",
    "            r = \"Q\"\n",
    "        elif self.rank == 13:\n",
    "            r = \"K\"\n",
    "        elif self.rank == 14:\n",
    "            r = \"A\"\n",
    "                \n",
    "        return r +':'+suits[self.suit-1]"
   ]
  },
  {
   "cell_type": "markdown",
   "metadata": {},
   "source": [
    "we can create a card easily."
   ]
  },
  {
   "cell_type": "code",
   "execution_count": null,
   "metadata": {},
   "outputs": [],
   "source": [
    "c1 = Card()"
   ]
  },
  {
   "cell_type": "markdown",
   "metadata": {},
   "source": [
    "We can pass arguments to `__init__` in when we setup the class:"
   ]
  },
  {
   "cell_type": "code",
   "execution_count": null,
   "metadata": {},
   "outputs": [],
   "source": [
    "c2 = Card(suit=2, rank=2)"
   ]
  },
  {
   "cell_type": "markdown",
   "metadata": {},
   "source": [
    "Once we have our object, we can access any of the functions in the class using the `dot` operator"
   ]
  },
  {
   "cell_type": "code",
   "execution_count": null,
   "metadata": {},
   "outputs": [],
   "source": [
    "c2.value()"
   ]
  },
  {
   "cell_type": "code",
   "execution_count": null,
   "metadata": {},
   "outputs": [],
   "source": [
    "c3 = Card(suit=0, rank=4)"
   ]
  },
  {
   "cell_type": "markdown",
   "metadata": {},
   "source": [
    "The `__str__` method converts the object into a string that can be printed."
   ]
  },
  {
   "cell_type": "code",
   "execution_count": null,
   "metadata": {},
   "outputs": [],
   "source": [
    "print(c1)\n",
    "print(c2)"
   ]
  },
  {
   "cell_type": "markdown",
   "metadata": {},
   "source": [
    "the value method assigns a value to the object that can be used in comparisons, and the `__lt__` method is what does the actual comparing"
   ]
  },
  {
   "cell_type": "code",
   "execution_count": null,
   "metadata": {},
   "outputs": [],
   "source": [
    "print(c1 > c2)\n",
    "print(c1 < c2)"
   ]
  },
  {
   "cell_type": "markdown",
   "metadata": {},
   "source": [
    "Note that not every operator is defined for our class, so, for instance, we cannot add two cards together:"
   ]
  },
  {
   "cell_type": "code",
   "execution_count": null,
   "metadata": {},
   "outputs": [],
   "source": [
    "c1 + c2"
   ]
  },
  {
   "cell_type": "markdown",
   "metadata": {},
   "source": [
    "<div class=\"alert alert-block alert-warning\">\n",
    "    \n",
    "<span class=\"fa fa-flash\"></span> Quick Exercise:\n",
    "\n",
    " * Create a \"hand\" corresponding to a straight (5 cards of any suite, but in sequence of rank)\n",
    " * Create another hand corresponding to a flush (5 cards all of the same suit, of any rank)\n",
    " * Finally create a hand with one of the cards duplicated&mdash;this should not be allowed in a standard deck of cards.  How would you check for this?\n",
    "\n",
    "</div>"
   ]
  },
  {
   "cell_type": "code",
   "execution_count": null,
   "metadata": {
    "tags": []
   },
   "outputs": [],
   "source": []
  },
  {
   "cell_type": "markdown",
   "metadata": {},
   "source": [
    "## Deck of Cards"
   ]
  },
  {
   "cell_type": "markdown",
   "metadata": {},
   "source": [
    "Classes can use other include other classes as data objects&mdash;here's a deck of cards.  Note that we are using the python random module here."
   ]
  },
  {
   "cell_type": "code",
   "execution_count": null,
   "metadata": {},
   "outputs": [],
   "source": [
    "import random\n",
    "\n",
    "class Deck:\n",
    "    \"\"\" the deck is a collection of cards \"\"\"\n",
    "\n",
    "    def __init__(self):\n",
    "\n",
    "        self.nsuits = 4\n",
    "        self.nranks = 13\n",
    "        self.minrank = 2\n",
    "        self.maxrank = self.minrank + self.nranks - 1\n",
    "\n",
    "        self.cards = []\n",
    "\n",
    "        for rank in range(self.minrank,self.maxrank+1):\n",
    "            for suit in range(1, self.nsuits+1):\n",
    "                self.cards.append(Card(rank=rank, suit=suit))\n",
    "\n",
    "    def shuffle(self):\n",
    "        random.shuffle(self.cards)\n",
    "\n",
    "    def get_cards(self, num=1):\n",
    "        hand = []\n",
    "        for n in range(num):\n",
    "            hand.append(self.cards.pop())\n",
    "\n",
    "        return hand\n",
    "    \n",
    "    def __str__(self):\n",
    "        string = \"\"\n",
    "        for c in self.cards:\n",
    "            string += str(c) + \" \"\n",
    "        return string"
   ]
  },
  {
   "cell_type": "markdown",
   "metadata": {},
   "source": [
    "let's create a deck, shuffle, and deal a hand (for a poker game)"
   ]
  },
  {
   "cell_type": "code",
   "execution_count": null,
   "metadata": {},
   "outputs": [],
   "source": [
    "mydeck = Deck()\n",
    "print(mydeck)\n",
    "print(len(mydeck.cards))"
   ]
  },
  {
   "cell_type": "markdown",
   "metadata": {},
   "source": [
    "notice that there is no error handling in this class.  The get_cards() will deal cards from the deck, removing them in the process.  Eventually we'll run out of cards."
   ]
  },
  {
   "cell_type": "code",
   "execution_count": null,
   "metadata": {},
   "outputs": [],
   "source": [
    "mydeck.shuffle()\n",
    "\n",
    "hand = mydeck.get_cards(5)\n",
    "for c in sorted(hand): print(c)"
   ]
  },
  {
   "cell_type": "markdown",
   "metadata": {},
   "source": [
    "## Operators"
   ]
  },
  {
   "cell_type": "markdown",
   "metadata": {},
   "source": [
    "We can define operations like `+` and `-` that work on our objects.  Here's a simple example of currency&mdash;we keep track of the country and the amount"
   ]
  },
  {
   "cell_type": "code",
   "execution_count": null,
   "metadata": {},
   "outputs": [],
   "source": [
    "class Currency:\n",
    "    \"\"\" a simple class to hold foreign currency \"\"\"\n",
    "    \n",
    "    def __init__(self, amount, country=\"US\"):\n",
    "        self.amount = amount\n",
    "        self.country = country\n",
    "        \n",
    "    def __add__(self, other):\n",
    "        if self.country != other.country:\n",
    "            return None\n",
    "        return Currency(self.amount + other.amount, country=self.country)\n",
    "\n",
    "    def __sub__(self, other):\n",
    "        return Currency(self.amount - other.amount, country=self.country)\n",
    "\n",
    "    def __str__(self):\n",
    "        return f\"{self.amount} {self.country}\""
   ]
  },
  {
   "cell_type": "markdown",
   "metadata": {},
   "source": [
    "We can now create some monetary amounts for different countries"
   ]
  },
  {
   "cell_type": "code",
   "execution_count": null,
   "metadata": {},
   "outputs": [],
   "source": [
    "d1 = Currency(10, \"US\")\n",
    "d2 = Currency(15, \"US\")\n",
    "print(d2 - d1)"
   ]
  },
  {
   "cell_type": "markdown",
   "metadata": {},
   "source": [
    "<div class=\"alert alert-block alert-warning\">\n",
    "    \n",
    "<span class=\"fa fa-flash\"></span> Quick Exercise:\n",
    "    \n",
    "\n",
    "As written, our Currency class has a bug&mdash;it does not check whether the amounts are in the same country before adding.  Modify the `__add__` method to first check if the countries are the same.  If they are, return the new `Currency` object with the sum, otherwise, return `None`.\n",
    "\n",
    "</div>"
   ]
  },
  {
   "cell_type": "code",
   "execution_count": null,
   "metadata": {
    "tags": []
   },
   "outputs": [],
   "source": []
  },
  {
   "cell_type": "markdown",
   "metadata": {},
   "source": [
    "## <span class=\"fa fa-star\"></span> Vectors Example\n",
    "\n",
    "Here we write a class to represent 2-d vectors.  Vectors have a direction and a magnitude.  We can represent them as a pair of numbers, representing the x and y lengths.  We'll use a tuple internally for this\n",
    "\n",
    "We want our class to do all the basic operations we do with vectors: add them, multiply by a scalar, cross product, dot product, return the magnitude, etc.\n",
    "\n",
    "We'll use the math module to provide some basic functions we might need (like sqrt)\n",
    "\n",
    "This example will show us how to overload the standard operations in python.  Here's a list of the builtin methods:\n",
    "\n",
    "https://docs.python.org/3/reference/datamodel.html\n",
    "\n",
    "To make it really clear what's being called when, I've added prints in each of the functions"
   ]
  },
  {
   "cell_type": "code",
   "execution_count": null,
   "metadata": {},
   "outputs": [],
   "source": [
    "import math"
   ]
  },
  {
   "cell_type": "code",
   "execution_count": null,
   "metadata": {
    "tags": []
   },
   "outputs": [],
   "source": [
    "class Vector:\n",
    "    \"\"\" a general two-dimensional vector \"\"\"\n",
    "    \n",
    "    def __init__(self, x, y):\n",
    "        print(\"in __init__\")\n",
    "        self.x = x\n",
    "        self.y = y\n",
    "        \n",
    "    def __str__(self):\n",
    "        print(\"in __str__\")        \n",
    "        return f\"({self.x} î + {self.y} ĵ)\"\n",
    "    \n",
    "    def __repr__(self):\n",
    "        print(\"in __repr__\")        \n",
    "        return f\"Vector({self.x}, {self.y})\"\n",
    "\n",
    "    def __add__(self, other):\n",
    "        print(\"in __add__\")        \n",
    "        if isinstance(other, Vector):\n",
    "            return Vector(self.x + other.x, self.y + other.y)\n",
    "        else:\n",
    "            # it doesn't make sense to add anything but two vectors\n",
    "            print(f\"we don't know how to add a {type(other)} to a Vector\")\n",
    "            raise NotImplementedError\n",
    "\n",
    "    def __sub__(self, other):\n",
    "        print(\"in __sub__\")        \n",
    "        if isinstance(other, Vector):\n",
    "            return Vector(self.x - other.x, self.y - other.y)\n",
    "        else:\n",
    "            # it doesn't make sense to add anything but two vectors\n",
    "            print(f\"we don't know how to add a {type(other)} to a Vector\")\n",
    "            raise NotImplementedError\n",
    "\n",
    "    def __mul__(self, other):\n",
    "        print(\"in __mul__\")        \n",
    "        if isinstance(other, int) or isinstance(other, float):\n",
    "            # scalar multiplication changes the magnitude\n",
    "            return Vector(other*self.x, other*self.y)\n",
    "        else:\n",
    "            print(\"we don't know how to multiply two Vectors\")\n",
    "            raise NotImplementedError\n",
    "\n",
    "    def __matmul__(self, other):\n",
    "        print(\"in __matmul__\")\n",
    "        # a dot product\n",
    "        if isinstance(other, Vector):\n",
    "            return self.x*other.x + self.y*other.y\n",
    "        else:\n",
    "            print(\"matrix multiplication not defined\")\n",
    "            raise NotImplementedError\n",
    "\n",
    "    def __rmul__(self, other):\n",
    "        print(\"in __rmul__\")        \n",
    "        return self.__mul__(other)\n",
    "\n",
    "    def __truediv__(self, other):\n",
    "        print(\"in __truediv__\")        \n",
    "        # we only know how to multiply by a scalar\n",
    "        if isinstance(other, int) or isinstance(other, float):\n",
    "            return Vector(self.x/other, self.y/other)\n",
    "\n",
    "    def __abs__(self):\n",
    "        print(\"in __abs__\")        \n",
    "        return math.sqrt(self.x**2 + self.y**2)\n",
    "\n",
    "    def __neg__(self):\n",
    "        print(\"in __neg__\")        \n",
    "        return Vector(-self.x, -self.y)\n",
    "\n",
    "    def cross(self, other):\n",
    "        # a vector cross product -- we return the magnitude, since it will\n",
    "        # be in the z-direction, but we are only 2-d \n",
    "        return abs(self.x*other.y - self.y*other.x)"
   ]
  },
  {
   "cell_type": "markdown",
   "metadata": {},
   "source": [
    "This is a basic class that provides two methods `__str__` and `__repr__` to show a representation of it.  There was some discussion of this on slack.  These two functions provide a readable version of our object.\n",
    "\n",
    "The convection is what `__str__` is human readable while `__repr__` should be a form that can be used to recreate the object (e.g., via `eval()`).  See:\n",
    "\n",
    "http://stackoverflow.com/questions/1436703/difference-between-str-and-repr-in-python"
   ]
  },
  {
   "cell_type": "code",
   "execution_count": null,
   "metadata": {},
   "outputs": [],
   "source": [
    "v = Vector(1,2)\n",
    "v"
   ]
  },
  {
   "cell_type": "code",
   "execution_count": null,
   "metadata": {},
   "outputs": [],
   "source": [
    "print(v)"
   ]
  },
  {
   "cell_type": "markdown",
   "metadata": {},
   "source": [
    "Vectors have a length, and we'll use the `abs()` builtin to provide the magnitude.  For a vector:\n",
    "\n",
    "$$\\vec{v} = \\alpha \\hat{i} + \\beta \\hat{j}$$\n",
    "\n",
    "we have\n",
    "\n",
    "$$|\\vec{v}| = \\sqrt{\\alpha^2 + \\beta^2}$$"
   ]
  },
  {
   "cell_type": "code",
   "execution_count": null,
   "metadata": {},
   "outputs": [],
   "source": [
    "abs(v)"
   ]
  },
  {
   "cell_type": "markdown",
   "metadata": {},
   "source": [
    "Let's look at mathematical operations on vectors now.  We want to be able to add and subtract two vectors as well as multiply and divide by a scalar."
   ]
  },
  {
   "cell_type": "code",
   "execution_count": null,
   "metadata": {},
   "outputs": [],
   "source": [
    "u = Vector(3,5)"
   ]
  },
  {
   "cell_type": "code",
   "execution_count": null,
   "metadata": {},
   "outputs": [],
   "source": [
    "w = u + v\n",
    "print(w)"
   ]
  },
  {
   "cell_type": "code",
   "execution_count": null,
   "metadata": {},
   "outputs": [],
   "source": [
    "u - v"
   ]
  },
  {
   "cell_type": "markdown",
   "metadata": {},
   "source": [
    "It doesn't make sense to add a scalar to a vector, so we didn't implement this -- what happens?"
   ]
  },
  {
   "cell_type": "code",
   "execution_count": null,
   "metadata": {},
   "outputs": [],
   "source": [
    "u + 2.0"
   ]
  },
  {
   "cell_type": "markdown",
   "metadata": {},
   "source": [
    "Now multiplication.  It makes sense to multiply by a scalar, but there are multiple ways to define multiplication of two vectors.  \n",
    "\n",
    "Note that python provides both a `__mul__` and a `__rmul__` function to define what happens when we multiply a vector by a quantity and what happens when we multiply something else by a vector."
   ]
  },
  {
   "cell_type": "code",
   "execution_count": null,
   "metadata": {},
   "outputs": [],
   "source": [
    "u*2.0"
   ]
  },
  {
   "cell_type": "code",
   "execution_count": null,
   "metadata": {},
   "outputs": [],
   "source": [
    "2.0*u"
   ]
  },
  {
   "cell_type": "markdown",
   "metadata": {},
   "source": [
    "and division: `__truediv__` is the python 3 way of division `/`, while `__floordiv__` is the old python 2 way, also enabled via `//`.\n",
    "\n",
    "Dividing a scalar by a vector doesn't make sense:"
   ]
  },
  {
   "cell_type": "code",
   "execution_count": null,
   "metadata": {},
   "outputs": [],
   "source": [
    "u/5.0"
   ]
  },
  {
   "cell_type": "code",
   "execution_count": null,
   "metadata": {},
   "outputs": [],
   "source": [
    "5.0/u"
   ]
  },
  {
   "cell_type": "markdown",
   "metadata": {},
   "source": [
    "Python 3.5 introduced a new matrix multiplication operator, `@` -- we'll use this to implement a dot product between two vectors:"
   ]
  },
  {
   "cell_type": "code",
   "execution_count": null,
   "metadata": {},
   "outputs": [],
   "source": [
    "u @ v"
   ]
  },
  {
   "cell_type": "markdown",
   "metadata": {},
   "source": [
    "For a cross product, we don't have an obvious operator, so we'll use a function.  For 2-d vectors, this will result in a scalar"
   ]
  },
  {
   "cell_type": "code",
   "execution_count": null,
   "metadata": {},
   "outputs": [],
   "source": [
    "u.cross(v)"
   ]
  },
  {
   "cell_type": "markdown",
   "metadata": {},
   "source": [
    "Finally, negation is a separate operation:"
   ]
  },
  {
   "cell_type": "code",
   "execution_count": null,
   "metadata": {},
   "outputs": [],
   "source": [
    "-u"
   ]
  },
  {
   "cell_type": "code",
   "execution_count": null,
   "metadata": {
    "tags": []
   },
   "outputs": [],
   "source": []
  }
 ],
 "metadata": {
  "kernelspec": {
   "display_name": "Python 3 (ipykernel)",
   "language": "python",
   "name": "python3"
  },
  "language_info": {
   "codemirror_mode": {
    "name": "ipython",
    "version": 3
   },
   "file_extension": ".py",
   "mimetype": "text/x-python",
   "name": "python",
   "nbconvert_exporter": "python",
   "pygments_lexer": "ipython3",
   "version": "3.10.9"
  }
 },
 "nbformat": 4,
 "nbformat_minor": 4
}
